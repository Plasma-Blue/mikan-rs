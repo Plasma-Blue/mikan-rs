{
 "cells": [
  {
   "cell_type": "markdown",
   "metadata": {},
   "source": [
    "## Benchmark"
   ]
  },
  {
   "cell_type": "code",
   "execution_count": 1,
   "metadata": {},
   "outputs": [],
   "source": [
    "import mikan\n",
    "import SimpleITK as sitk\n",
    "import time\n",
    "from medpy.metric import dc, hd, hd95, assd"
   ]
  },
  {
   "cell_type": "markdown",
   "metadata": {},
   "source": [
    "## Load Data"
   ]
  },
  {
   "cell_type": "code",
   "execution_count": 2,
   "metadata": {},
   "outputs": [],
   "source": [
    "gt = sitk.ReadImage(rf\"..\\data\\patients_26_ground_truth.nii.gz\", sitk.sitkUInt8)\n",
    "pred = sitk.ReadImage(rf\"..\\data\\patients_26_segmentation.nii.gz\", sitk.sitkUInt8)\n",
    "\n",
    "gt_arr = sitk.GetArrayFromImage(gt)\n",
    "pred_arr = sitk.GetArrayFromImage(pred)"
   ]
  },
  {
   "cell_type": "markdown",
   "metadata": {},
   "source": [
    "### DSC"
   ]
  },
  {
   "cell_type": "code",
   "execution_count": 3,
   "metadata": {},
   "outputs": [
    {
     "name": "stdout",
     "output_type": "stream",
     "text": [
      "DSC: 7.62x faster\n"
     ]
    }
   ],
   "source": [
    "# mikan: DSC\n",
    "t = time.time()\n",
    "evaluator = mikan.ArrayEvaluator(gt_arr, pred_arr, spacing=gt.GetSpacing())\n",
    "dsc = evaluator.labels([1,2,3,4,5]).metrics(\"dsc\")\n",
    "mikan_costs = time.time() - t\n",
    "\n",
    "# medpy: DSC\n",
    "t = time.time()\n",
    "for i in (1,2,3,4,5):\n",
    "    dsc = dc(pred_arr == i, gt_arr == i)\n",
    "medpy_costs = time.time() - t\n",
    "\n",
    "print(f\"DSC: {medpy_costs / mikan_costs :.2f}x faster\")\n"
   ]
  },
  {
   "cell_type": "markdown",
   "metadata": {},
   "source": [
    "### HD"
   ]
  },
  {
   "cell_type": "code",
   "execution_count": 4,
   "metadata": {},
   "outputs": [
    {
     "name": "stdout",
     "output_type": "stream",
     "text": [
      "Mikan has calculated Hausdorff distance and cost 11.18 s.\n",
      "Let's waiting for medpy, be patient for a while...\n",
      "HD: 52.38x faster\n"
     ]
    }
   ],
   "source": [
    "# mikan: HD\n",
    "t = time.time()\n",
    "evaluator = mikan.ArrayEvaluator(gt_arr, pred_arr, spacing=gt.GetSpacing())\n",
    "hausdorff_distance = evaluator.labels([1,2,3,4,5]).metrics(\"HD\")\n",
    "mikan_costs = time.time() - t\n",
    "print(f\"Mikan has calculated Hausdorff distance and cost {mikan_costs:.2f} s.\")\n",
    "print(f\"Let's waiting for medpy, be patient for a while...\")\n",
    "\n",
    "# medpy: HD\n",
    "t = time.time()\n",
    "for i in (1,2,3,4,5):\n",
    "    hausdorff_distance = hd(pred_arr == i, gt_arr == i, voxelspacing=gt.GetSpacing()[::-1])\n",
    "medpy_costs = time.time() - t\n",
    "\n",
    "print(f\"HD: {medpy_costs / mikan_costs :.2f}x faster\")"
   ]
  },
  {
   "cell_type": "markdown",
   "metadata": {},
   "source": [
    "### HD/HD95/ASSD"
   ]
  },
  {
   "cell_type": "code",
   "execution_count": 5,
   "metadata": {},
   "outputs": [
    {
     "name": "stdout",
     "output_type": "stream",
     "text": [
      "{'1': {'hd': 23.23409080505371, 'hd95': 1.1611101627349854, 'assd': 0.46196645498275757}, '2': {'hd': 41.99140930175781, 'hd95': 1.5640751123428345, 'assd': 0.603213906288147}, '3': {'hd': 30.292224884033203, 'hd95': 1.5, 'assd': 0.5346971750259399}, '4': {'hd': 110.12802124023438, 'hd95': 1.1611051559448242, 'assd': 0.5072747468948364}, '5': {'hd': 92.80791473388672, 'hd95': 1.4820098876953125, 'assd': 0.5352650284767151}}\n",
      "Mikan has calculated distance and cost 11.04 s.\n",
      "Let's waiting for medpy, be patient for a while...\n",
      "{'1': {'hd': 23.23409080505371, 'hd95': 1.1611101627349854, 'assd': 0.46196645498275757}, '2': {'hd': 41.99140930175781, 'hd95': 1.5640751123428345, 'assd': 0.603213906288147}, '3': {'hd': 30.292224884033203, 'hd95': 1.5, 'assd': 0.5346971750259399}, '4': {'hd': 110.12802124023438, 'hd95': 1.1611051559448242, 'assd': 0.5072747468948364}, '5': {'hd': 92.80791473388672, 'hd95': 1.4820098876953125, 'assd': 0.5352650284767151}}\n",
      "Distances: 165.36x faster\n"
     ]
    }
   ],
   "source": [
    "# mikan: Distances\n",
    "t = time.time()\n",
    "evaluator = mikan.ArrayEvaluator(gt_arr, pred_arr, spacing=gt.GetSpacing())\n",
    "mikan_distances = evaluator.labels([1,2,3,4,5]).metrics([\"hd\", \"hd95\", \"assd\"])\n",
    "mikan_costs = time.time() - t\n",
    "print(mikan_distances)\n",
    "print(f\"Mikan has calculated distance and cost {mikan_costs:.2f} s.\")\n",
    "print(f\"Let's waiting for medpy, be patient for a while...\")\n",
    "\n",
    "# medpy: Distances\n",
    "t = time.time()\n",
    "medpy_results = {}\n",
    "for i in (1,2,3,4,5):\n",
    "    hd_ = hd(pred_arr == i, gt_arr == i, voxelspacing=gt.GetSpacing()[::-1])\n",
    "    hd95_ = hd95(pred_arr == i, gt_arr == i, voxelspacing=gt.GetSpacing()[::-1])\n",
    "    assd_ = assd(pred_arr == i, gt_arr == i, voxelspacing=gt.GetSpacing()[::-1])\n",
    "    medpy_results[i] = {\n",
    "        \"hd\": hd_,\n",
    "        \"hd95\": hd95_,\n",
    "        \"assd\": assd_,\n",
    "    }\n",
    "medpy_costs = time.time() - t\n",
    "print(medpy_results)\n",
    "print(f\"Distances: {medpy_costs / mikan_costs :.2f}x faster\")"
   ]
  }
 ],
 "metadata": {
  "kernelspec": {
   "display_name": "Python 3",
   "language": "python",
   "name": "python3"
  },
  "language_info": {
   "codemirror_mode": {
    "name": "ipython",
    "version": 3
   },
   "file_extension": ".py",
   "mimetype": "text/x-python",
   "name": "python",
   "nbconvert_exporter": "python",
   "pygments_lexer": "ipython3",
   "version": "3.12.3"
  }
 },
 "nbformat": 4,
 "nbformat_minor": 2
}
