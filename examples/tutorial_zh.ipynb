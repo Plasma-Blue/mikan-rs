{
 "cells": [
  {
   "cell_type": "markdown",
   "metadata": {},
   "source": [
    "## Mikan-tutorial\n",
    "\n",
    "欢迎使用 mikan 🍊! \n",
    "\n",
    "mikan 是一个医学图像分割指标计算工具。此文档介绍了 mikan 的使用方法，简单对比了其与 medpy 的性能和结果。\n",
    "\n",
    "mikan 的主要特点：\n",
    "- rust 驱动，高度并行化，非常快，比现有工具 (medpy 等) 快 10 ~ 50x\n",
    "- 几乎支持全部的分割指标的计算\n",
    "- 精心设计的简单、灵活、符合直觉的接口，你一分钟就可以精通 mikan 并喜欢上它！"
   ]
  },
  {
   "cell_type": "markdown",
   "metadata": {},
   "source": [
    "### 太长不看\n",
    "\n",
    "立刻运行 mikan 获得全部分割标签的全部指标："
   ]
  },
  {
   "cell_type": "code",
   "execution_count": 94,
   "metadata": {},
   "outputs": [],
   "source": [
    "from mikan import all\n",
    "\n",
    "all_metrics = all(rf\"..\\data\\patients_26_ground_truth.nii.gz\", rf\"..\\data\\patients_26_segmentation.nii.gz\")\n",
    "# print(all_metrics)"
   ]
  },
  {
   "cell_type": "markdown",
   "metadata": {},
   "source": [
    "### 使用"
   ]
  },
  {
   "cell_type": "code",
   "execution_count": 76,
   "metadata": {},
   "outputs": [],
   "source": [
    "import mikan\n",
    "import SimpleITK as sitk\n",
    "import time\n",
    "from rich import print"
   ]
  },
  {
   "cell_type": "markdown",
   "metadata": {},
   "source": [
    "mikan 目前只支持 uint8 的数据，通常这是足够的"
   ]
  },
  {
   "cell_type": "code",
   "execution_count": 77,
   "metadata": {},
   "outputs": [],
   "source": [
    "gt = sitk.ReadImage(rf\"..\\data\\patients_26_ground_truth.nii.gz\", sitk.sitkUInt8)\n",
    "pred = sitk.ReadImage(rf\"..\\data\\patients_26_segmentation.nii.gz\", sitk.sitkUInt8)"
   ]
  },
  {
   "cell_type": "markdown",
   "metadata": {},
   "source": [
    "使用只需要两步：\n",
    "\n",
    "1. 初始化一个评估器："
   ]
  },
  {
   "cell_type": "code",
   "execution_count": 78,
   "metadata": {},
   "outputs": [],
   "source": [
    "e = mikan.Evaluator(gt, pred)"
   ]
  },
  {
   "cell_type": "markdown",
   "metadata": {},
   "source": [
    "2. 获得指标："
   ]
  },
  {
   "cell_type": "code",
   "execution_count": 79,
   "metadata": {},
   "outputs": [
    {
     "data": {
      "text/plain": [
       "0.9870104666571462"
      ]
     },
     "execution_count": 79,
     "metadata": {},
     "output_type": "execute_result"
    }
   ],
   "source": [
    "e.labels(1).metrics(\"dice\") # label 1 的 Dice"
   ]
  },
  {
   "cell_type": "code",
   "execution_count": 80,
   "metadata": {},
   "outputs": [
    {
     "data": {
      "text/plain": [
       "[0.9870104666571462, 0.9638299832080431, 0.9788861062581474]"
      ]
     },
     "execution_count": 80,
     "metadata": {},
     "output_type": "execute_result"
    }
   ],
   "source": [
    "e.labels([1,2,3]).metrics(\"Dice\") # 多个 label 的 Dice"
   ]
  },
  {
   "cell_type": "code",
   "execution_count": 81,
   "metadata": {},
   "outputs": [
    {
     "data": {
      "text/plain": [
       "[0.9870104666571462, 7374578.0]"
      ]
     },
     "execution_count": 81,
     "metadata": {},
     "output_type": "execute_result"
    }
   ],
   "source": [
    "e.labels(1).metrics([\"Dice\", \"TP\"]) # label 1 的多个 metrics"
   ]
  },
  {
   "cell_type": "code",
   "execution_count": 82,
   "metadata": {},
   "outputs": [
    {
     "data": {
      "text/plain": [
       "{'1': {'Dice': 0.9870104666571462, 'TP': 7374578.0},\n",
       " '2': {'Dice': 0.9638299832080431, 'TP': 1224306.0}}"
      ]
     },
     "execution_count": 82,
     "metadata": {},
     "output_type": "execute_result"
    }
   ],
   "source": [
    "e.labels([1, 2]).metrics([\"Dice\", \"TP\"]) # 多个 label 的多个 metrics"
   ]
  },
  {
   "cell_type": "code",
   "execution_count": 83,
   "metadata": {},
   "outputs": [
    {
     "data": {
      "text/plain": [
       "{'1': {'Dice': 0.9870104666571462, 'TP': 7374578.0},\n",
       " '2': {'Dice': 0.9638299832080431, 'TP': 1224306.0},\n",
       " '3': {'Dice': 0.9788861062581474, 'TP': 4379325.0},\n",
       " '4': {'Dice': 0.9847150871159485, 'TP': 6222520.0},\n",
       " '5': {'Dice': 0.9799666340747192, 'TP': 4541233.0}}"
      ]
     },
     "execution_count": 83,
     "metadata": {},
     "output_type": "execute_result"
    }
   ],
   "source": [
    "e.labels(\"all\").metrics([\"Dice\", \"TP\"]) # 全部 label 的多个 metrics"
   ]
  },
  {
   "cell_type": "markdown",
   "metadata": {},
   "source": [
    "就是这样。你已经掌握了 mikan 的全部功能了！接口被精心设计过，真的很简单！\n",
    "\n",
    "### 别名\n",
    "\n",
    "mikan 也支持别名。你可以把 \"Dice\" 称为 \"dsc\"： "
   ]
  },
  {
   "cell_type": "code",
   "execution_count": 84,
   "metadata": {},
   "outputs": [
    {
     "data": {
      "text/plain": [
       "[0.9870104666571462,\n",
       " 0.9638299832080431,\n",
       " 0.9788861062581474,\n",
       " 0.9847150871159485,\n",
       " 0.9799666340747192]"
      ]
     },
     "execution_count": 84,
     "metadata": {},
     "output_type": "execute_result"
    }
   ],
   "source": [
    "e.labels(\"all\").metrics(\"dsc\") # dsc is Dice"
   ]
  },
  {
   "cell_type": "markdown",
   "metadata": {},
   "source": [
    "我们维护了一个别名字典，你可以任意使用左边的名字，他们都会被视为右边进行计算。"
   ]
  },
  {
   "cell_type": "code",
   "execution_count": 85,
   "metadata": {},
   "outputs": [
    {
     "data": {
      "text/html": [
       "<pre style=\"white-space:pre;overflow-x:auto;line-height:normal;font-family:Menlo,'DejaVu Sans Mono',consolas,'Courier New',monospace\"><span style=\"font-weight: bold\">{</span>\n",
       "    <span style=\"color: #008000; text-decoration-color: #008000\">'accuracy'</span>: <span style=\"color: #008000; text-decoration-color: #008000\">'accuracy'</span>,\n",
       "    <span style=\"color: #008000; text-decoration-color: #008000\">'acc'</span>: <span style=\"color: #008000; text-decoration-color: #008000\">'accuracy'</span>,\n",
       "    <span style=\"color: #008000; text-decoration-color: #008000\">'Acc'</span>: <span style=\"color: #008000; text-decoration-color: #008000\">'accuracy'</span>,\n",
       "    <span style=\"color: #008000; text-decoration-color: #008000\">'ACC'</span>: <span style=\"color: #008000; text-decoration-color: #008000\">'accuracy'</span>,\n",
       "    <span style=\"color: #008000; text-decoration-color: #008000\">'Accuracy'</span>: <span style=\"color: #008000; text-decoration-color: #008000\">'accuracy'</span>,\n",
       "    <span style=\"color: #008000; text-decoration-color: #008000\">'RI'</span>: <span style=\"color: #008000; text-decoration-color: #008000\">'accuracy'</span>,\n",
       "    <span style=\"color: #008000; text-decoration-color: #008000\">'RandIndex'</span>: <span style=\"color: #008000; text-decoration-color: #008000\">'accuracy'</span>,\n",
       "    <span style=\"color: #008000; text-decoration-color: #008000\">'adjust_rand_score'</span>: <span style=\"color: #008000; text-decoration-color: #008000\">'adjust_rand_score'</span>,\n",
       "    <span style=\"color: #008000; text-decoration-color: #008000\">'auc'</span>: <span style=\"color: #008000; text-decoration-color: #008000\">'auc'</span>,\n",
       "    <span style=\"color: #008000; text-decoration-color: #008000\">'balanced_accuracy'</span>: <span style=\"color: #008000; text-decoration-color: #008000\">'balanced_accuracy'</span>,\n",
       "    <span style=\"color: #008000; text-decoration-color: #008000\">'dice'</span>: <span style=\"color: #008000; text-decoration-color: #008000\">'dice'</span>,\n",
       "    <span style=\"color: #008000; text-decoration-color: #008000\">'Dice'</span>: <span style=\"color: #008000; text-decoration-color: #008000\">'dice'</span>,\n",
       "    <span style=\"color: #008000; text-decoration-color: #008000\">'dsc'</span>: <span style=\"color: #008000; text-decoration-color: #008000\">'dice'</span>,\n",
       "    <span style=\"color: #008000; text-decoration-color: #008000\">'DSC'</span>: <span style=\"color: #008000; text-decoration-color: #008000\">'dice'</span>,\n",
       "    <span style=\"color: #008000; text-decoration-color: #008000\">'f_score'</span>: <span style=\"color: #008000; text-decoration-color: #008000\">'f_score'</span>,\n",
       "    <span style=\"color: #008000; text-decoration-color: #008000\">'jaccard_score'</span>: <span style=\"color: #008000; text-decoration-color: #008000\">'jaccard_score'</span>,\n",
       "    <span style=\"color: #008000; text-decoration-color: #008000\">'kappa'</span>: <span style=\"color: #008000; text-decoration-color: #008000\">'kappa'</span>,\n",
       "    <span style=\"color: #008000; text-decoration-color: #008000\">'mcc'</span>: <span style=\"color: #008000; text-decoration-color: #008000\">'mcc'</span>,\n",
       "    <span style=\"color: #008000; text-decoration-color: #008000\">'MCC'</span>: <span style=\"color: #008000; text-decoration-color: #008000\">'mcc'</span>,\n",
       "    <span style=\"color: #008000; text-decoration-color: #008000\">'MatthewsCorrelationCoefficient'</span>: <span style=\"color: #008000; text-decoration-color: #008000\">'mcc'</span>,\n",
       "    <span style=\"color: #008000; text-decoration-color: #008000\">'nmcc'</span>: <span style=\"color: #008000; text-decoration-color: #008000\">'nmcc'</span>,\n",
       "    <span style=\"color: #008000; text-decoration-color: #008000\">'NMCC'</span>: <span style=\"color: #008000; text-decoration-color: #008000\">'nmcc'</span>,\n",
       "    <span style=\"color: #008000; text-decoration-color: #008000\">'nMCC'</span>: <span style=\"color: #008000; text-decoration-color: #008000\">'nmcc'</span>,\n",
       "    <span style=\"color: #008000; text-decoration-color: #008000\">'MCC_normalized'</span>: <span style=\"color: #008000; text-decoration-color: #008000\">'nmcc'</span>,\n",
       "    <span style=\"color: #008000; text-decoration-color: #008000\">'amcc'</span>: <span style=\"color: #008000; text-decoration-color: #008000\">'amcc'</span>,\n",
       "    <span style=\"color: #008000; text-decoration-color: #008000\">'AMCC'</span>: <span style=\"color: #008000; text-decoration-color: #008000\">'amcc'</span>,\n",
       "    <span style=\"color: #008000; text-decoration-color: #008000\">'aMCC'</span>: <span style=\"color: #008000; text-decoration-color: #008000\">'amcc'</span>,\n",
       "    <span style=\"color: #008000; text-decoration-color: #008000\">'MCC_absolute'</span>: <span style=\"color: #008000; text-decoration-color: #008000\">'amcc'</span>,\n",
       "    <span style=\"color: #008000; text-decoration-color: #008000\">'precision'</span>: <span style=\"color: #008000; text-decoration-color: #008000\">'precision'</span>,\n",
       "    <span style=\"color: #008000; text-decoration-color: #008000\">'senstivity'</span>: <span style=\"color: #008000; text-decoration-color: #008000\">'senstivity'</span>,\n",
       "    <span style=\"color: #008000; text-decoration-color: #008000\">'specificity'</span>: <span style=\"color: #008000; text-decoration-color: #008000\">'specificity'</span>,\n",
       "    <span style=\"color: #008000; text-decoration-color: #008000\">'tn'</span>: <span style=\"color: #008000; text-decoration-color: #008000\">'tn'</span>,\n",
       "    <span style=\"color: #008000; text-decoration-color: #008000\">'TN'</span>: <span style=\"color: #008000; text-decoration-color: #008000\">'tn'</span>,\n",
       "    <span style=\"color: #008000; text-decoration-color: #008000\">'TrueNegative'</span>: <span style=\"color: #008000; text-decoration-color: #008000\">'tn'</span>,\n",
       "    <span style=\"color: #008000; text-decoration-color: #008000\">'tp'</span>: <span style=\"color: #008000; text-decoration-color: #008000\">'tp'</span>,\n",
       "    <span style=\"color: #008000; text-decoration-color: #008000\">'TP'</span>: <span style=\"color: #008000; text-decoration-color: #008000\">'tp'</span>,\n",
       "    <span style=\"color: #008000; text-decoration-color: #008000\">'TruePositive'</span>: <span style=\"color: #008000; text-decoration-color: #008000\">'tp'</span>,\n",
       "    <span style=\"color: #008000; text-decoration-color: #008000\">'fn'</span>: <span style=\"color: #008000; text-decoration-color: #008000\">'fn'</span>,\n",
       "    <span style=\"color: #008000; text-decoration-color: #008000\">'FN'</span>: <span style=\"color: #008000; text-decoration-color: #008000\">'fn'</span>,\n",
       "    <span style=\"color: #008000; text-decoration-color: #008000\">'FalseNegative'</span>: <span style=\"color: #008000; text-decoration-color: #008000\">'fn'</span>,\n",
       "    <span style=\"color: #008000; text-decoration-color: #008000\">'fp'</span>: <span style=\"color: #008000; text-decoration-color: #008000\">'fp'</span>,\n",
       "    <span style=\"color: #008000; text-decoration-color: #008000\">'FP'</span>: <span style=\"color: #008000; text-decoration-color: #008000\">'fp'</span>,\n",
       "    <span style=\"color: #008000; text-decoration-color: #008000\">'FalsePositive'</span>: <span style=\"color: #008000; text-decoration-color: #008000\">'fp'</span>,\n",
       "    <span style=\"color: #008000; text-decoration-color: #008000\">'fnr'</span>: <span style=\"color: #008000; text-decoration-color: #008000\">'fnr'</span>,\n",
       "    <span style=\"color: #008000; text-decoration-color: #008000\">'fpr'</span>: <span style=\"color: #008000; text-decoration-color: #008000\">'fpr'</span>,\n",
       "    <span style=\"color: #008000; text-decoration-color: #008000\">'volume_similarity'</span>: <span style=\"color: #008000; text-decoration-color: #008000\">'volume_similarity'</span>,\n",
       "    <span style=\"color: #008000; text-decoration-color: #008000\">'VolumetricSimilarity'</span>: <span style=\"color: #008000; text-decoration-color: #008000\">'volume_similarity'</span>,\n",
       "    <span style=\"color: #008000; text-decoration-color: #008000\">'vs'</span>: <span style=\"color: #008000; text-decoration-color: #008000\">'volume_similarity'</span>,\n",
       "    <span style=\"color: #008000; text-decoration-color: #008000\">'VS'</span>: <span style=\"color: #008000; text-decoration-color: #008000\">'volume_similarity'</span>,\n",
       "    <span style=\"color: #008000; text-decoration-color: #008000\">'hausdorff_distance_95'</span>: <span style=\"color: #008000; text-decoration-color: #008000\">'hausdorff_distance_95'</span>,\n",
       "    <span style=\"color: #008000; text-decoration-color: #008000\">'HD95'</span>: <span style=\"color: #008000; text-decoration-color: #008000\">'hausdorff_distance_95'</span>,\n",
       "    <span style=\"color: #008000; text-decoration-color: #008000\">'hd95'</span>: <span style=\"color: #008000; text-decoration-color: #008000\">'hausdorff_distance_95'</span>,\n",
       "    <span style=\"color: #008000; text-decoration-color: #008000\">'hausdorff_distance'</span>: <span style=\"color: #008000; text-decoration-color: #008000\">'hausdorff_distance'</span>,\n",
       "    <span style=\"color: #008000; text-decoration-color: #008000\">'hd'</span>: <span style=\"color: #008000; text-decoration-color: #008000\">'hausdorff_distance'</span>,\n",
       "    <span style=\"color: #008000; text-decoration-color: #008000\">'HD'</span>: <span style=\"color: #008000; text-decoration-color: #008000\">'hausdorff_distance'</span>,\n",
       "    <span style=\"color: #008000; text-decoration-color: #008000\">'assd'</span>: <span style=\"color: #008000; text-decoration-color: #008000\">'assd'</span>,\n",
       "    <span style=\"color: #008000; text-decoration-color: #008000\">'ASSD'</span>: <span style=\"color: #008000; text-decoration-color: #008000\">'assd'</span>,\n",
       "    <span style=\"color: #008000; text-decoration-color: #008000\">'masd'</span>: <span style=\"color: #008000; text-decoration-color: #008000\">'masd'</span>,\n",
       "    <span style=\"color: #008000; text-decoration-color: #008000\">'MASD'</span>: <span style=\"color: #008000; text-decoration-color: #008000\">'masd'</span>\n",
       "<span style=\"font-weight: bold\">}</span>\n",
       "</pre>\n"
      ],
      "text/plain": [
       "\u001b[1m{\u001b[0m\n",
       "    \u001b[32m'accuracy'\u001b[0m: \u001b[32m'accuracy'\u001b[0m,\n",
       "    \u001b[32m'acc'\u001b[0m: \u001b[32m'accuracy'\u001b[0m,\n",
       "    \u001b[32m'Acc'\u001b[0m: \u001b[32m'accuracy'\u001b[0m,\n",
       "    \u001b[32m'ACC'\u001b[0m: \u001b[32m'accuracy'\u001b[0m,\n",
       "    \u001b[32m'Accuracy'\u001b[0m: \u001b[32m'accuracy'\u001b[0m,\n",
       "    \u001b[32m'RI'\u001b[0m: \u001b[32m'accuracy'\u001b[0m,\n",
       "    \u001b[32m'RandIndex'\u001b[0m: \u001b[32m'accuracy'\u001b[0m,\n",
       "    \u001b[32m'adjust_rand_score'\u001b[0m: \u001b[32m'adjust_rand_score'\u001b[0m,\n",
       "    \u001b[32m'auc'\u001b[0m: \u001b[32m'auc'\u001b[0m,\n",
       "    \u001b[32m'balanced_accuracy'\u001b[0m: \u001b[32m'balanced_accuracy'\u001b[0m,\n",
       "    \u001b[32m'dice'\u001b[0m: \u001b[32m'dice'\u001b[0m,\n",
       "    \u001b[32m'Dice'\u001b[0m: \u001b[32m'dice'\u001b[0m,\n",
       "    \u001b[32m'dsc'\u001b[0m: \u001b[32m'dice'\u001b[0m,\n",
       "    \u001b[32m'DSC'\u001b[0m: \u001b[32m'dice'\u001b[0m,\n",
       "    \u001b[32m'f_score'\u001b[0m: \u001b[32m'f_score'\u001b[0m,\n",
       "    \u001b[32m'jaccard_score'\u001b[0m: \u001b[32m'jaccard_score'\u001b[0m,\n",
       "    \u001b[32m'kappa'\u001b[0m: \u001b[32m'kappa'\u001b[0m,\n",
       "    \u001b[32m'mcc'\u001b[0m: \u001b[32m'mcc'\u001b[0m,\n",
       "    \u001b[32m'MCC'\u001b[0m: \u001b[32m'mcc'\u001b[0m,\n",
       "    \u001b[32m'MatthewsCorrelationCoefficient'\u001b[0m: \u001b[32m'mcc'\u001b[0m,\n",
       "    \u001b[32m'nmcc'\u001b[0m: \u001b[32m'nmcc'\u001b[0m,\n",
       "    \u001b[32m'NMCC'\u001b[0m: \u001b[32m'nmcc'\u001b[0m,\n",
       "    \u001b[32m'nMCC'\u001b[0m: \u001b[32m'nmcc'\u001b[0m,\n",
       "    \u001b[32m'MCC_normalized'\u001b[0m: \u001b[32m'nmcc'\u001b[0m,\n",
       "    \u001b[32m'amcc'\u001b[0m: \u001b[32m'amcc'\u001b[0m,\n",
       "    \u001b[32m'AMCC'\u001b[0m: \u001b[32m'amcc'\u001b[0m,\n",
       "    \u001b[32m'aMCC'\u001b[0m: \u001b[32m'amcc'\u001b[0m,\n",
       "    \u001b[32m'MCC_absolute'\u001b[0m: \u001b[32m'amcc'\u001b[0m,\n",
       "    \u001b[32m'precision'\u001b[0m: \u001b[32m'precision'\u001b[0m,\n",
       "    \u001b[32m'senstivity'\u001b[0m: \u001b[32m'senstivity'\u001b[0m,\n",
       "    \u001b[32m'specificity'\u001b[0m: \u001b[32m'specificity'\u001b[0m,\n",
       "    \u001b[32m'tn'\u001b[0m: \u001b[32m'tn'\u001b[0m,\n",
       "    \u001b[32m'TN'\u001b[0m: \u001b[32m'tn'\u001b[0m,\n",
       "    \u001b[32m'TrueNegative'\u001b[0m: \u001b[32m'tn'\u001b[0m,\n",
       "    \u001b[32m'tp'\u001b[0m: \u001b[32m'tp'\u001b[0m,\n",
       "    \u001b[32m'TP'\u001b[0m: \u001b[32m'tp'\u001b[0m,\n",
       "    \u001b[32m'TruePositive'\u001b[0m: \u001b[32m'tp'\u001b[0m,\n",
       "    \u001b[32m'fn'\u001b[0m: \u001b[32m'fn'\u001b[0m,\n",
       "    \u001b[32m'FN'\u001b[0m: \u001b[32m'fn'\u001b[0m,\n",
       "    \u001b[32m'FalseNegative'\u001b[0m: \u001b[32m'fn'\u001b[0m,\n",
       "    \u001b[32m'fp'\u001b[0m: \u001b[32m'fp'\u001b[0m,\n",
       "    \u001b[32m'FP'\u001b[0m: \u001b[32m'fp'\u001b[0m,\n",
       "    \u001b[32m'FalsePositive'\u001b[0m: \u001b[32m'fp'\u001b[0m,\n",
       "    \u001b[32m'fnr'\u001b[0m: \u001b[32m'fnr'\u001b[0m,\n",
       "    \u001b[32m'fpr'\u001b[0m: \u001b[32m'fpr'\u001b[0m,\n",
       "    \u001b[32m'volume_similarity'\u001b[0m: \u001b[32m'volume_similarity'\u001b[0m,\n",
       "    \u001b[32m'VolumetricSimilarity'\u001b[0m: \u001b[32m'volume_similarity'\u001b[0m,\n",
       "    \u001b[32m'vs'\u001b[0m: \u001b[32m'volume_similarity'\u001b[0m,\n",
       "    \u001b[32m'VS'\u001b[0m: \u001b[32m'volume_similarity'\u001b[0m,\n",
       "    \u001b[32m'hausdorff_distance_95'\u001b[0m: \u001b[32m'hausdorff_distance_95'\u001b[0m,\n",
       "    \u001b[32m'HD95'\u001b[0m: \u001b[32m'hausdorff_distance_95'\u001b[0m,\n",
       "    \u001b[32m'hd95'\u001b[0m: \u001b[32m'hausdorff_distance_95'\u001b[0m,\n",
       "    \u001b[32m'hausdorff_distance'\u001b[0m: \u001b[32m'hausdorff_distance'\u001b[0m,\n",
       "    \u001b[32m'hd'\u001b[0m: \u001b[32m'hausdorff_distance'\u001b[0m,\n",
       "    \u001b[32m'HD'\u001b[0m: \u001b[32m'hausdorff_distance'\u001b[0m,\n",
       "    \u001b[32m'assd'\u001b[0m: \u001b[32m'assd'\u001b[0m,\n",
       "    \u001b[32m'ASSD'\u001b[0m: \u001b[32m'assd'\u001b[0m,\n",
       "    \u001b[32m'masd'\u001b[0m: \u001b[32m'masd'\u001b[0m,\n",
       "    \u001b[32m'MASD'\u001b[0m: \u001b[32m'masd'\u001b[0m\n",
       "\u001b[1m}\u001b[0m\n"
      ]
     },
     "metadata": {},
     "output_type": "display_data"
    }
   ],
   "source": [
    "from mikan.alias import ALIAS_DICT\n",
    "print(ALIAS_DICT)"
   ]
  },
  {
   "cell_type": "markdown",
   "metadata": {},
   "source": [
    "### 高效\n"
   ]
  },
  {
   "cell_type": "markdown",
   "metadata": {},
   "source": [
    "尽管计算 Dice 很简单，mikan 也进行了高度优化，使得计算 Dice 特别快，比如："
   ]
  },
  {
   "cell_type": "code",
   "execution_count": null,
   "metadata": {},
   "outputs": [
    {
     "data": {
      "text/html": [
       "<pre style=\"white-space:pre;overflow-x:auto;line-height:normal;font-family:Menlo,'DejaVu Sans Mono',consolas,'Courier New',monospace\">mikan DSC: <span style=\"color: #008080; text-decoration-color: #008080; font-weight: bold\">7.</span>2<span style=\"color: #008080; text-decoration-color: #008080; font-weight: bold\">0x</span> faster\n",
       "</pre>\n"
      ],
      "text/plain": [
       "mikan DSC: \u001b[1;36m7.\u001b[0m2\u001b[1;36m0x\u001b[0m faster\n"
      ]
     },
     "metadata": {},
     "output_type": "display_data"
    },
    {
     "data": {
      "text/html": [
       "<pre style=\"white-space:pre;overflow-x:auto;line-height:normal;font-family:Menlo,'DejaVu Sans Mono',consolas,'Courier New',monospace\">mikan DSC: <span style=\"font-weight: bold\">[</span><span style=\"color: #008080; text-decoration-color: #008080; font-weight: bold\">0.9870104666571462</span>, <span style=\"color: #008080; text-decoration-color: #008080; font-weight: bold\">0.9638299832080431</span>, <span style=\"color: #008080; text-decoration-color: #008080; font-weight: bold\">0.9788861062581474</span>, <span style=\"color: #008080; text-decoration-color: #008080; font-weight: bold\">0.9847150871159485</span>, <span style=\"color: #008080; text-decoration-color: #008080; font-weight: bold\">0.9799666340747192</span><span style=\"font-weight: bold\">]</span>\n",
       "</pre>\n"
      ],
      "text/plain": [
       "mikan DSC: \u001b[1m[\u001b[0m\u001b[1;36m0.9870104666571462\u001b[0m, \u001b[1;36m0.9638299832080431\u001b[0m, \u001b[1;36m0.9788861062581474\u001b[0m, \u001b[1;36m0.9847150871159485\u001b[0m, \u001b[1;36m0.9799666340747192\u001b[0m\u001b[1m]\u001b[0m\n"
      ]
     },
     "metadata": {},
     "output_type": "display_data"
    },
    {
     "data": {
      "text/html": [
       "<pre style=\"white-space:pre;overflow-x:auto;line-height:normal;font-family:Menlo,'DejaVu Sans Mono',consolas,'Courier New',monospace\">medpy DSC: <span style=\"font-weight: bold\">[</span><span style=\"color: #008080; text-decoration-color: #008080; font-weight: bold\">0.9870104666571462</span>, <span style=\"color: #008080; text-decoration-color: #008080; font-weight: bold\">0.9638299832080431</span>, <span style=\"color: #008080; text-decoration-color: #008080; font-weight: bold\">0.9788861062581474</span>, <span style=\"color: #008080; text-decoration-color: #008080; font-weight: bold\">0.9847150871159485</span>, <span style=\"color: #008080; text-decoration-color: #008080; font-weight: bold\">0.9799666340747192</span><span style=\"font-weight: bold\">]</span>\n",
       "</pre>\n"
      ],
      "text/plain": [
       "medpy DSC: \u001b[1m[\u001b[0m\u001b[1;36m0.9870104666571462\u001b[0m, \u001b[1;36m0.9638299832080431\u001b[0m, \u001b[1;36m0.9788861062581474\u001b[0m, \u001b[1;36m0.9847150871159485\u001b[0m, \u001b[1;36m0.9799666340747192\u001b[0m\u001b[1m]\u001b[0m\n"
      ]
     },
     "metadata": {},
     "output_type": "display_data"
    }
   ],
   "source": [
    "from medpy.metric import dc\n",
    "\n",
    "e = mikan.Evaluator(gt, pred)\n",
    "\n",
    "# mikan: DSC\n",
    "t = time.time()\n",
    "mikan_dscs = e.labels([1,2,3,4,5]).metrics(\"dsc\")\n",
    "mikan_costs = time.time() - t\n",
    "\n",
    "# medpy: DSC\n",
    "t = time.time()\n",
    "\n",
    "pred_arr = sitk.GetArrayFromImage(pred)\n",
    "gt_arr = sitk.GetArrayFromImage(gt)\n",
    "\n",
    "dscs = []\n",
    "for i in (1,2,3,4,5):\n",
    "    dscs.append(dc(pred_arr == i, gt_arr == i))\n",
    "medpy_costs = time.time() - t\n",
    "\n",
    "print(f\"mikan DSC: {medpy_costs / mikan_costs :.2f}x faster\")\n",
    "print(f\"mikan DSC: {mikan_dscs}\")\n",
    "print(f\"medpy DSC: {dscs}\")"
   ]
  },
  {
   "cell_type": "markdown",
   "metadata": {},
   "source": [
    "mikan 有超快的 Hausdorff 距离计算："
   ]
  },
  {
   "cell_type": "code",
   "execution_count": 87,
   "metadata": {},
   "outputs": [
    {
     "data": {
      "text/html": [
       "<pre style=\"white-space:pre;overflow-x:auto;line-height:normal;font-family:Menlo,'DejaVu Sans Mono',consolas,'Courier New',monospace\">Mikan cost <span style=\"color: #008080; text-decoration-color: #008080; font-weight: bold\">5.28</span> s, HD = <span style=\"color: #008080; text-decoration-color: #008080; font-weight: bold\">23.2341</span> mm\n",
       "</pre>\n"
      ],
      "text/plain": [
       "Mikan cost \u001b[1;36m5.28\u001b[0m s, HD = \u001b[1;36m23.2341\u001b[0m mm\n"
      ]
     },
     "metadata": {},
     "output_type": "display_data"
    }
   ],
   "source": [
    "t = time.time()\n",
    "mikan_hd = e.labels(1).metrics(\"hd\")\n",
    "print(f\"Mikan cost {time.time() - t:.2f} s, HD = {mikan_hd:.4f} mm\")"
   ]
  },
  {
   "cell_type": "markdown",
   "metadata": {},
   "source": [
    "对比 medpy："
   ]
  },
  {
   "cell_type": "code",
   "execution_count": 88,
   "metadata": {},
   "outputs": [
    {
     "data": {
      "text/html": [
       "<pre style=\"white-space:pre;overflow-x:auto;line-height:normal;font-family:Menlo,'DejaVu Sans Mono',consolas,'Courier New',monospace\">medpy cost <span style=\"color: #008080; text-decoration-color: #008080; font-weight: bold\">129.8336</span> s, HD = <span style=\"color: #008080; text-decoration-color: #008080; font-weight: bold\">23.2341</span> mm\n",
       "</pre>\n"
      ],
      "text/plain": [
       "medpy cost \u001b[1;36m129.8336\u001b[0m s, HD = \u001b[1;36m23.2341\u001b[0m mm\n"
      ]
     },
     "metadata": {},
     "output_type": "display_data"
    }
   ],
   "source": [
    "from medpy.metric import hd\n",
    "t = time.time()\n",
    "medpy_hd = hd(pred_arr == 1, gt_arr == 1, voxelspacing=gt.GetSpacing()[::-1]) # z, y, x\n",
    "print(f\"medpy cost {time.time() - t:.4f} s, HD = {medpy_hd:.4f} mm\")"
   ]
  },
  {
   "cell_type": "markdown",
   "metadata": {},
   "source": [
    "### 超级缓存"
   ]
  },
  {
   "cell_type": "markdown",
   "metadata": {},
   "source": [
    "在计算 HD 时，ASSD、HD95 等指标也被 mikan 计算过了。不需要再计算！"
   ]
  },
  {
   "cell_type": "code",
   "execution_count": 90,
   "metadata": {},
   "outputs": [
    {
     "data": {
      "text/html": [
       "<pre style=\"white-space:pre;overflow-x:auto;line-height:normal;font-family:Menlo,'DejaVu Sans Mono',consolas,'Courier New',monospace\">Mikan cost <span style=\"color: #008080; text-decoration-color: #008080; font-weight: bold\">0.0000</span> s, ASSD = <span style=\"color: #008080; text-decoration-color: #008080; font-weight: bold\">0.4620</span> mm\n",
       "</pre>\n"
      ],
      "text/plain": [
       "Mikan cost \u001b[1;36m0.0000\u001b[0m s, ASSD = \u001b[1;36m0.4620\u001b[0m mm\n"
      ]
     },
     "metadata": {},
     "output_type": "display_data"
    }
   ],
   "source": [
    "t = time.time()\n",
    "mikan_hd = e.labels(1).metrics(\"assd\")\n",
    "print(f\"Mikan cost {time.time() - t:.4f} s, ASSD = {mikan_hd:.4f} mm\")"
   ]
  },
  {
   "cell_type": "markdown",
   "metadata": {},
   "source": [
    "而 medpy 计算 assd 要从头再来，非常慢："
   ]
  },
  {
   "cell_type": "code",
   "execution_count": 91,
   "metadata": {},
   "outputs": [
    {
     "data": {
      "text/html": [
       "<pre style=\"white-space:pre;overflow-x:auto;line-height:normal;font-family:Menlo,'DejaVu Sans Mono',consolas,'Courier New',monospace\">medpy cost <span style=\"color: #008080; text-decoration-color: #008080; font-weight: bold\">129.77</span> s, ASSD = <span style=\"color: #008080; text-decoration-color: #008080; font-weight: bold\">0.4627</span> mm\n",
       "</pre>\n"
      ],
      "text/plain": [
       "medpy cost \u001b[1;36m129.77\u001b[0m s, ASSD = \u001b[1;36m0.4627\u001b[0m mm\n"
      ]
     },
     "metadata": {},
     "output_type": "display_data"
    }
   ],
   "source": [
    "from medpy.metric import assd\n",
    "t = time.time()\n",
    "medpy_hd = assd(pred_arr == 1, gt_arr == 1, voxelspacing=gt.GetSpacing()[::-1]) # z, y, x\n",
    "print(f\"medpy cost {time.time() - t:.2f} s, ASSD = {medpy_hd:.4f} mm\")"
   ]
  },
  {
   "cell_type": "markdown",
   "metadata": {},
   "source": [
    "再举一个刚刚计算过的 Dice 的例子："
   ]
  },
  {
   "cell_type": "code",
   "execution_count": null,
   "metadata": {},
   "outputs": [
    {
     "data": {
      "text/html": [
       "<pre style=\"white-space:pre;overflow-x:auto;line-height:normal;font-family:Menlo,'DejaVu Sans Mono',consolas,'Courier New',monospace\">mikan DSC: <span style=\"color: #008080; text-decoration-color: #008080; font-weight: bold\">20111501216.</span>89x faster\n",
       "</pre>\n"
      ],
      "text/plain": [
       "mikan DSC: \u001b[1;36m20111501216.\u001b[0m89x faster\n"
      ]
     },
     "metadata": {},
     "output_type": "display_data"
    }
   ],
   "source": [
    "from medpy.metric import dc\n",
    "\n",
    "# mikan: DSC\n",
    "t = time.time()\n",
    "mikan_dscs = e.labels([1,2,3,4,5]).metrics(\"dsc\")\n",
    "mikan_costs = time.time() - t + 1e-10 # sometimes zero\n",
    "\n",
    "# medpy: DSC\n",
    "t = time.time()\n",
    "dscs = []\n",
    "for i in (1,2,3,4,5):\n",
    "    dscs.append(dc(pred_arr == i, gt_arr == i))\n",
    "medpy_costs = time.time() - t\n",
    "\n",
    "print(f\"mikan DSC: {medpy_costs / mikan_costs :.2f}x faster\")"
   ]
  },
  {
   "cell_type": "markdown",
   "metadata": {},
   "source": [
    "mikan 不会重复计算已经计算过的数据。这就是 mikan 的超级缓存！"
   ]
  },
  {
   "cell_type": "markdown",
   "metadata": {},
   "source": [
    "### 结果一致性\n",
    "\n",
    "由于实现细节的差异，mikan 计算 ASSD 和 HD95 与 medpy 略有不同。差异非常小！\n",
    "\n",
    "其他指标则和 medpy 完全一致。放心使用！\n",
    "\n",
    "\n",
    "### 总结\n",
    "\n",
    "- mikan 能计算几乎全部的分割指标\n",
    "- mikan 特别快\n",
    "- mikan 使用特别简单\n"
   ]
  }
 ],
 "metadata": {
  "kernelspec": {
   "display_name": "Python 3",
   "language": "python",
   "name": "python3"
  },
  "language_info": {
   "codemirror_mode": {
    "name": "ipython",
    "version": 3
   },
   "file_extension": ".py",
   "mimetype": "text/x-python",
   "name": "python",
   "nbconvert_exporter": "python",
   "pygments_lexer": "ipython3",
   "version": "3.12.3"
  }
 },
 "nbformat": 4,
 "nbformat_minor": 2
}
